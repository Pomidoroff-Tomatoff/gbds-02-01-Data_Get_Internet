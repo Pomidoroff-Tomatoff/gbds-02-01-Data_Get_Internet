{
 "cells": [
  {
   "cell_type": "markdown",
   "id": "28b68cb8",
   "metadata": {},
   "source": [
    "# Scrapy to PyMongoDB"
   ]
  },
  {
   "cell_type": "markdown",
   "id": "87f2cf9c",
   "metadata": {},
   "source": [
    "Процесс получения данных организован паучками Scrapy и запускаются из командной строки"
   ]
  },
  {
   "cell_type": "markdown",
   "id": "edb72c68",
   "metadata": {},
   "source": [
    "## Запускаем паучка `books_pages`"
   ]
  },
  {
   "cell_type": "markdown",
   "id": "6dd21485",
   "metadata": {},
   "source": [
    "__Инфо__: Паучёк `books_pages` подготовлен по шаблону `base` командой: `scrapy genspider books_pages books.toscrape.com`"
   ]
  },
  {
   "cell_type": "code",
   "execution_count": 1,
   "id": "3782b757",
   "metadata": {},
   "outputs": [],
   "source": [
    "# !scrapy scrapy crawl books_pages -o books_pages.json"
   ]
  },
  {
   "cell_type": "markdown",
   "id": "ae445631",
   "metadata": {},
   "source": [
    "### Подключаемся к серверу MongoDB\n",
    "Для того, чтобы посмотреть, сколько документов паучёк загрузил в базу в процессе своей работы."
   ]
  },
  {
   "cell_type": "code",
   "execution_count": 2,
   "id": "f5e48f1b",
   "metadata": {},
   "outputs": [],
   "source": [
    "import pymongo"
   ]
  },
  {
   "cell_type": "code",
   "execution_count": 3,
   "id": "89d34dca",
   "metadata": {},
   "outputs": [],
   "source": [
    "db_name = \"book_toscrape\"\n",
    "db_collection = \"books_pages\"\n",
    "db_address = \"mongodb://127.0.0.1:27017\""
   ]
  },
  {
   "cell_type": "code",
   "execution_count": 4,
   "id": "44b6e883",
   "metadata": {},
   "outputs": [
    {
     "data": {
      "text/plain": [
       "['admin', 'auto', 'book_toscrape', 'config', 'hh', 'local', 'testdb']"
      ]
     },
     "execution_count": 4,
     "metadata": {},
     "output_type": "execute_result"
    }
   ],
   "source": [
    "client = pymongo.MongoClient(db_address)\n",
    "client.list_database_names()"
   ]
  },
  {
   "cell_type": "code",
   "execution_count": 5,
   "id": "1b0b92a6",
   "metadata": {},
   "outputs": [],
   "source": [
    "db = client[db_name]\n",
    "collection = db[db_collection]"
   ]
  },
  {
   "cell_type": "code",
   "execution_count": 6,
   "id": "d954d3eb",
   "metadata": {},
   "outputs": [
    {
     "data": {
      "text/plain": [
       "['pages', 'books_pages']"
      ]
     },
     "execution_count": 6,
     "metadata": {},
     "output_type": "execute_result"
    }
   ],
   "source": [
    "db.list_collection_names()"
   ]
  },
  {
   "cell_type": "code",
   "execution_count": 20,
   "id": "2c4ad6ea",
   "metadata": {},
   "outputs": [
    {
     "name": "stdout",
     "output_type": "stream",
     "text": [
      "Всего 1000 документов.\n",
      "\n"
     ]
    }
   ],
   "source": [
    "print(f\"Всего {len(list(collection.find()))} документов.\\n\")"
   ]
  },
  {
   "cell_type": "code",
   "execution_count": 8,
   "id": "3b76c201",
   "metadata": {},
   "outputs": [],
   "source": [
    "# client.drop_database(db_name)"
   ]
  }
 ],
 "metadata": {
  "kernelspec": {
   "display_name": "Python 3 (ipykernel)",
   "language": "python",
   "name": "python3"
  },
  "language_info": {
   "codemirror_mode": {
    "name": "ipython",
    "version": 3
   },
   "file_extension": ".py",
   "mimetype": "text/x-python",
   "name": "python",
   "nbconvert_exporter": "python",
   "pygments_lexer": "ipython3",
   "version": "3.8.8"
  }
 },
 "nbformat": 4,
 "nbformat_minor": 5
}
