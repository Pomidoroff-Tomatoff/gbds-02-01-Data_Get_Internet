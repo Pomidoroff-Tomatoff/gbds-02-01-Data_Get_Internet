{
 "cells": [
  {
   "cell_type": "markdown",
   "id": "28b68cb8",
   "metadata": {},
   "source": [
    "# Scrapy to PyMongoDB"
   ]
  },
  {
   "cell_type": "markdown",
   "id": "87f2cf9c",
   "metadata": {},
   "source": [
    "Процесс получения данных организован паучками Scrapy и запускаются из командной строки"
   ]
  },
  {
   "cell_type": "markdown",
   "id": "edb72c68",
   "metadata": {},
   "source": [
    "## Запускаем паучка `pages`"
   ]
  },
  {
   "cell_type": "markdown",
   "id": "0254177e",
   "metadata": {},
   "source": [
    "__Инфо__: Паучёк `pages` подготовлен по шаблону `crawl` командой: `scrapy genspider -t crawl pages books.toscrape.com`"
   ]
  },
  {
   "cell_type": "code",
   "execution_count": 1,
   "id": "3782b757",
   "metadata": {},
   "outputs": [],
   "source": [
    "# !scrapy scrapy crawl pages -o pages.json"
   ]
  },
  {
   "cell_type": "markdown",
   "id": "ae445631",
   "metadata": {},
   "source": [
    "### Подключаемся к серверу MongoDB\n",
    "Для того, чтобы посмотреть, сколько данных (документов) паучёк загрузил в базу в процессе своей работы."
   ]
  },
  {
   "cell_type": "code",
   "execution_count": 2,
   "id": "f5e48f1b",
   "metadata": {},
   "outputs": [],
   "source": [
    "import pymongo"
   ]
  },
  {
   "cell_type": "code",
   "execution_count": 3,
   "id": "89d34dca",
   "metadata": {},
   "outputs": [],
   "source": [
    "db_name = \"book_toscrape\"\n",
    "db_collection = \"pages\"\n",
    "db_address = \"mongodb://127.0.0.1:27017\""
   ]
  },
  {
   "cell_type": "code",
   "execution_count": 4,
   "id": "44b6e883",
   "metadata": {},
   "outputs": [
    {
     "data": {
      "text/plain": [
       "['admin', 'auto', 'book_toscrape', 'config', 'hh', 'local', 'testdb']"
      ]
     },
     "execution_count": 4,
     "metadata": {},
     "output_type": "execute_result"
    }
   ],
   "source": [
    "client = pymongo.MongoClient(db_address)\n",
    "client.list_database_names()"
   ]
  },
  {
   "cell_type": "code",
   "execution_count": 5,
   "id": "1b0b92a6",
   "metadata": {},
   "outputs": [],
   "source": [
    "# client.drop_database(db_name)\n",
    "db = client[db_name]\n",
    "collection = db[db_collection]"
   ]
  },
  {
   "cell_type": "code",
   "execution_count": 6,
   "id": "d954d3eb",
   "metadata": {},
   "outputs": [
    {
     "data": {
      "text/plain": [
       "['pages', 'books_pages']"
      ]
     },
     "execution_count": 6,
     "metadata": {},
     "output_type": "execute_result"
    }
   ],
   "source": [
    "db.list_collection_names()"
   ]
  },
  {
   "cell_type": "code",
   "execution_count": 10,
   "id": "2c4ad6ea",
   "metadata": {},
   "outputs": [
    {
     "name": "stdout",
     "output_type": "stream",
     "text": [
      "Всего 1000 документов (БД \"book_toscrape\", коллекция \"pages\").\n"
     ]
    }
   ],
   "source": [
    "print(f\"Всего {len(list(collection.find()))} документов (БД \\\"{db_name}\\\", коллекция \\\"{db_collection}\\\").\")"
   ]
  }
 ],
 "metadata": {
  "kernelspec": {
   "display_name": "Python 3 (ipykernel)",
   "language": "python",
   "name": "python3"
  },
  "language_info": {
   "codemirror_mode": {
    "name": "ipython",
    "version": 3
   },
   "file_extension": ".py",
   "mimetype": "text/x-python",
   "name": "python",
   "nbconvert_exporter": "python",
   "pygments_lexer": "ipython3",
   "version": "3.8.8"
  }
 },
 "nbformat": 4,
 "nbformat_minor": 5
}
