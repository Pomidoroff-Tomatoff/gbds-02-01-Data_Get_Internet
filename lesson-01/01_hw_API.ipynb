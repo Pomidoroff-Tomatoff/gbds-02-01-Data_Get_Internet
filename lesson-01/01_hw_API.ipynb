{
 "cells": [
  {
   "cell_type": "markdown",
   "id": "adeef24a",
   "metadata": {},
   "source": [
    "`GB` BigData / [Олег Гладкий](https://gb.ru/users/3837199) // домашнее задание"
   ]
  },
  {
   "cell_type": "markdown",
   "id": "b20a5143",
   "metadata": {},
   "source": [
    "`262698` __Методы сбора и обработки данных из сети Интернет__:  `01`. Основы клиент-серверного взаимодействия. Работа с API"
   ]
  },
  {
   "cell_type": "markdown",
   "id": "d4d2b65e",
   "metadata": {},
   "source": [
    "## Задание 1. Публичное API"
   ]
  },
  {
   "cell_type": "markdown",
   "id": "0f226af5",
   "metadata": {},
   "source": [
    "* Посмотреть документацию к `API GitHub`, разобраться как вывести список репозиториев для конкретного пользователя, \n",
    "* сохранить JSON-вывод в файле `*.json`.\n"
   ]
  },
  {
   "cell_type": "markdown",
   "id": "3bfcb00d",
   "metadata": {},
   "source": [
    "### Документация по API с сайта github.com\n",
    "Понять что-то очень здесь, оказалось, не просто... Но можно посмотреть примеры резализации доступа к этому API на прикладных сайтах"
   ]
  },
  {
   "cell_type": "markdown",
   "id": "35ccde01",
   "metadata": {},
   "source": [
    "API `GitHub`, раздел по репозиториям: https://docs.github.com/en/rest/repos/repos#list-repositories-for-a-user"
   ]
  },
  {
   "cell_type": "markdown",
   "id": "24f304bd",
   "metadata": {},
   "source": [
    "### Запрашиваем данные при помощи Python"
   ]
  },
  {
   "cell_type": "code",
   "execution_count": 1,
   "id": "25c28123",
   "metadata": {},
   "outputs": [],
   "source": [
    "import requests"
   ]
  },
  {
   "cell_type": "code",
   "execution_count": 2,
   "id": "f5d989a0",
   "metadata": {},
   "outputs": [],
   "source": [
    "user_login_name = 'pomidoroff-tomatoff' # Имя пользователя GitHub"
   ]
  },
  {
   "cell_type": "code",
   "execution_count": 3,
   "id": "1ecfd17b",
   "metadata": {},
   "outputs": [
    {
     "name": "stdout",
     "output_type": "stream",
     "text": [
      "Пользователь: pomidoroff-tomatoff\n",
      "Вид данных:   общедоступные репозитории пользователя\n",
      "\n",
      "gb-0-02-1-HTML-CoffeeGrinder\n",
      "gb-0-02-2-HTML-Interior\n",
      "gb-project-repo\n",
      "gbdb-01-01-SQL\n",
      "gbdb-01-02-Python\n",
      "gbdb-01-04-Anaconda\n",
      "gbds-01-04-PythonDS\n",
      "gbds-02-01-Data_Get_Internet\n",
      "Pomidoroff-Tomatoff\n",
      "repo-github\n"
     ]
    }
   ],
   "source": [
    "response = requests.get(f\"https://api.github.com/users/{user_login_name}/repos\")\n",
    "\n",
    "repos = response.json()\n",
    "\n",
    "print(f\"Пользователь: {user_login_name}\")\n",
    "print(f\"Вид данных:   общедоступные репозитории пользователя\\n\")\n",
    "\n",
    "for index in range(len(repos)):\n",
    "    print(repos[index]['name'])     "
   ]
  },
  {
   "cell_type": "markdown",
   "id": "e6cdb051",
   "metadata": {},
   "source": [
    "#### Запись результата запроса в json-файл "
   ]
  },
  {
   "cell_type": "markdown",
   "id": "1e0e625a",
   "metadata": {},
   "source": [
    "Используем полученные в запросе `get` данные в формате `json` для записи на диск в `json`-файл. Эти данные выше сохранены в переменной `repos`."
   ]
  },
  {
   "cell_type": "code",
   "execution_count": 4,
   "id": "ff8fc894",
   "metadata": {},
   "outputs": [],
   "source": [
    "import json  # модуль для работы с json-данными, "
   ]
  },
  {
   "cell_type": "markdown",
   "id": "03435278",
   "metadata": {},
   "source": [
    "__Запись__ объекта `json` в файл как есть, то есть записываем __дамп__ объекта:\n",
    "* запись данных как дампа объекта `json`\n",
    "* запись по элементно полученного по API списка (list) комадной `print(repos[i], files=files)` — здесь не показано для простоты"
   ]
  },
  {
   "cell_type": "code",
   "execution_count": 5,
   "id": "eb43271b",
   "metadata": {},
   "outputs": [],
   "source": [
    "with open('01_hw_API__repositories.json', 'w') as file:\n",
    "    json.dump(repos, file) "
   ]
  },
  {
   "cell_type": "markdown",
   "id": "c9a89d0d",
   "metadata": {},
   "source": [
    "__Проверка__: Читаем и выводим данные для проверки:"
   ]
  },
  {
   "cell_type": "code",
   "execution_count": 6,
   "id": "3be64a7e",
   "metadata": {},
   "outputs": [
    {
     "name": "stdout",
     "output_type": "stream",
     "text": [
      "gb-0-02-1-HTML-CoffeeGrinder\n",
      "gb-0-02-2-HTML-Interior\n",
      "gb-project-repo\n",
      "gbdb-01-01-SQL\n",
      "gbdb-01-02-Python\n",
      "gbdb-01-04-Anaconda\n",
      "gbds-01-04-PythonDS\n",
      "gbds-02-01-Data_Get_Internet\n",
      "Pomidoroff-Tomatoff\n",
      "repo-github\n"
     ]
    }
   ],
   "source": [
    "with open('01_hw_API__repositories.json', 'r') as file:\n",
    "    json_data = json.load(file)\n",
    "    \n",
    "for index in range(len(repos)):\n",
    "    print(json_data[index]['name']) "
   ]
  },
  {
   "cell_type": "markdown",
   "id": "bc686887",
   "metadata": {},
   "source": [
    "### Вариант запроса при момощи утилиты cURL"
   ]
  },
  {
   "cell_type": "markdown",
   "id": "4a6cc9ed",
   "metadata": {},
   "source": [
    "Есть неудобства такого подхода, но он прост и универсален! Для записи `Json`-файл используем ключ `-J` для удаления заголовков"
   ]
  },
  {
   "cell_type": "code",
   "execution_count": 7,
   "id": "b91f302b",
   "metadata": {},
   "outputs": [
    {
     "name": "stderr",
     "output_type": "stream",
     "text": [
      "  % Total    % Received % Xferd  Average Speed   Time    Time     Time  Current\n",
      "                                 Dload  Upload   Total   Spent    Left  Speed\n",
      "\n",
      "  0     0    0     0    0     0      0      0 --:--:-- --:--:-- --:--:--     0\n",
      "  0     0    0     0    0     0      0      0 --:--:-- --:--:-- --:--:--     0\n",
      "100 66560    0 66560    0     0   125k      0 --:--:-- --:--:-- --:--:--  125k\n"
     ]
    }
   ],
   "source": [
    "!curl -J https://api.github.com/users/pomidoroff-tomatoff/repos >\"01_hw_API__repositories_curl.json\""
   ]
  },
  {
   "cell_type": "code",
   "execution_count": 8,
   "id": "646a4114",
   "metadata": {},
   "outputs": [
    {
     "name": "stdout",
     "output_type": "stream",
     "text": [
      "    \"full_name\": \"Pomidoroff-Tomatoff/gb-0-02-1-HTML-CoffeeGrinder\",\n",
      "    \"full_name\": \"Pomidoroff-Tomatoff/gb-0-02-2-HTML-Interior\",\n",
      "    \"full_name\": \"Pomidoroff-Tomatoff/gb-project-repo\",\n",
      "    \"full_name\": \"Pomidoroff-Tomatoff/gbdb-01-01-SQL\",\n",
      "    \"full_name\": \"Pomidoroff-Tomatoff/gbdb-01-02-Python\",\n",
      "    \"full_name\": \"Pomidoroff-Tomatoff/gbdb-01-04-Anaconda\",\n",
      "    \"full_name\": \"Pomidoroff-Tomatoff/gbds-01-04-PythonDS\",\n",
      "    \"full_name\": \"Pomidoroff-Tomatoff/gbds-02-01-Data_Get_Internet\",\n",
      "    \"full_name\": \"Pomidoroff-Tomatoff/Pomidoroff-Tomatoff\",\n",
      "    \"full_name\": \"Pomidoroff-Tomatoff/repo-github\",\n"
     ]
    }
   ],
   "source": [
    "import platform  # модуль необходим, чтобы локализовать запуск curl по семейству ОС\n",
    "\n",
    "system_name = platform.system().upper()\n",
    "\n",
    "if system_name == 'LINUX' or system_name == 'Darwin':\n",
    "    !cat  \"01_hw_API__repositories_curl.json\" | grep -i \"\\\"full_name\\\":\"\n",
    "\n",
    "if system_name == 'WINDOWS':\n",
    "    !type \"01_hw_API__repositories_curl.json\" | find /i \"full_name\" "
   ]
  },
  {
   "cell_type": "markdown",
   "id": "5b869b46",
   "metadata": {},
   "source": [
    "__Проверяем__ записанный `cURL` файл для чтения из Python.\n",
    "* Необходимо установить кодировку `utf-8`, иначе читать не получается! Сильно с этим не разбирался, но понял, что проблемы возможны..."
   ]
  },
  {
   "cell_type": "code",
   "execution_count": 9,
   "id": "59eec112",
   "metadata": {},
   "outputs": [
    {
     "name": "stdout",
     "output_type": "stream",
     "text": [
      "gb-0-02-1-HTML-CoffeeGrinder\n",
      "gb-0-02-2-HTML-Interior\n",
      "gb-project-repo\n",
      "gbdb-01-01-SQL\n",
      "gbdb-01-02-Python\n",
      "gbdb-01-04-Anaconda\n",
      "gbds-01-04-PythonDS\n",
      "gbds-02-01-Data_Get_Internet\n",
      "Pomidoroff-Tomatoff\n",
      "repo-github\n"
     ]
    }
   ],
   "source": [
    "with open('01_hw_API__repositories_curl.json', 'r', encoding=\"utf-8\") as file:\n",
    "    json_curl_data = json.load(file)\n",
    "    \n",
    "for index in range(len(repos)):\n",
    "    print(json_curl_data[index]['name']) "
   ]
  },
  {
   "cell_type": "markdown",
   "id": "e36690f2",
   "metadata": {},
   "source": [
    "<!--  -->"
   ]
  },
  {
   "cell_type": "markdown",
   "id": "c017702d",
   "metadata": {},
   "source": [
    "## Задание 2. Приватное API"
   ]
  },
  {
   "cell_type": "markdown",
   "id": "4cc69687",
   "metadata": {},
   "source": [
    "Работа будет состоять с недокументированным API. Нужно ввести релевантный запрос на сайте https://www.delivery-club.ru/search\n",
    "\n",
    "* Из предложенных точек с помощью API найти долю (в %) с бесплатной и платной доставкой. Для каждой категории рассчитать среднюю минимальную стоимость заказа.\n",
    "* Для каждой из категорий из пункта (а) рассчитать долю (в %) магазинов и ресторанов"
   ]
  },
  {
   "cell_type": "code",
   "execution_count": null,
   "id": "b2d4636d",
   "metadata": {},
   "outputs": [],
   "source": []
  },
  {
   "cell_type": "code",
   "execution_count": null,
   "id": "e0583850",
   "metadata": {},
   "outputs": [],
   "source": []
  },
  {
   "cell_type": "code",
   "execution_count": null,
   "id": "6b03439a",
   "metadata": {},
   "outputs": [],
   "source": []
  }
 ],
 "metadata": {
  "kernelspec": {
   "display_name": "Python 3",
   "language": "python",
   "name": "python3"
  },
  "language_info": {
   "codemirror_mode": {
    "name": "ipython",
    "version": 3
   },
   "file_extension": ".py",
   "mimetype": "text/x-python",
   "name": "python",
   "nbconvert_exporter": "python",
   "pygments_lexer": "ipython3",
   "version": "3.8.8"
  }
 },
 "nbformat": 4,
 "nbformat_minor": 5
}
