{
 "cells": [
  {
   "cell_type": "markdown",
   "id": "adeef24a",
   "metadata": {},
   "source": [
    "`GB` BigData / [Олег Гладкий](https://gb.ru/users/3837199) // домашнее задание"
   ]
  },
  {
   "cell_type": "markdown",
   "id": "b20a5143",
   "metadata": {},
   "source": [
    "__Методы сбора и обработки данных из сети Интернет__:  `01`. Основы клиент-серверного взаимодействия. Работа с API"
   ]
  },
  {
   "cell_type": "markdown",
   "id": "d4d2b65e",
   "metadata": {},
   "source": [
    "## Задание 1. Публичное API"
   ]
  },
  {
   "cell_type": "markdown",
   "id": "0f226af5",
   "metadata": {},
   "source": [
    "* Посмотреть документацию к `API GitHub`, разобраться как вывести список репозиториев для конкретного пользователя, \n",
    "* сохранить JSON-вывод в файле `*.json`.\n"
   ]
  },
  {
   "cell_type": "markdown",
   "id": "3bfcb00d",
   "metadata": {},
   "source": [
    "__Решение__"
   ]
  },
  {
   "cell_type": "markdown",
   "id": "35ccde01",
   "metadata": {},
   "source": [
    "Документация `GitHub`, раздел по репозиториям: https://docs.github.com/en/rest/repos/repos#list-repositories-for-a-user"
   ]
  },
  {
   "cell_type": "code",
   "execution_count": 1,
   "id": "25c28123",
   "metadata": {},
   "outputs": [],
   "source": [
    "import requests"
   ]
  },
  {
   "cell_type": "code",
   "execution_count": 57,
   "id": "f5d989a0",
   "metadata": {},
   "outputs": [],
   "source": [
    "user_login_name = 'pomidoroff-tomatoff'"
   ]
  },
  {
   "cell_type": "code",
   "execution_count": 56,
   "id": "1ecfd17b",
   "metadata": {},
   "outputs": [
    {
     "name": "stdout",
     "output_type": "stream",
     "text": [
      "Пользователь: pomidoroff-tomatoff\n",
      "Вид данных:   общедоступные репозитории пользователя\n",
      "\n",
      "gb-0-02-1-HTML-CoffeeGrinder\n",
      "gb-0-02-2-HTML-Interior\n",
      "gb-project-repo\n",
      "gbdb-01-01-SQL\n",
      "gbdb-01-02-Python\n",
      "gbdb-01-04-Anaconda\n",
      "gbds-01-04-PythonDS\n",
      "gbds-02-01-Data_Get_Internet\n",
      "Pomidoroff-Tomatoff\n",
      "repo-github\n"
     ]
    }
   ],
   "source": [
    "response = requests.get(f\"https://api.github.com/users/{user_login_name}/repos\")\n",
    "\n",
    "repos = response.json()\n",
    "\n",
    "print(f\"Пользователь: {user_login_name}\")\n",
    "print(f\"Вид данных:   общедоступные репозитории пользователя\\n\")\n",
    "\n",
    "for index in range(len(repos)):\n",
    "    print(repos[index]['name']) "
   ]
  },
  {
   "cell_type": "markdown",
   "id": "c017702d",
   "metadata": {},
   "source": [
    "## Задание 2. Приватное API"
   ]
  },
  {
   "cell_type": "markdown",
   "id": "4cc69687",
   "metadata": {},
   "source": [
    "Работа будет состоять с недокументированным API. Нужно ввести релевантный запрос на сайте https://www.delivery-club.ru/search\n",
    "\n",
    "* Из предложенных точек с помощью API найти долю (в %) с бесплатной и платной доставкой. Для каждой категории рассчитать среднюю минимальную стоимость заказа.\n",
    "* Для каждой из категорий из пункта (а) рассчитать долю (в %) магазинов и ресторанов"
   ]
  },
  {
   "cell_type": "code",
   "execution_count": null,
   "id": "b2d4636d",
   "metadata": {},
   "outputs": [],
   "source": []
  },
  {
   "cell_type": "code",
   "execution_count": null,
   "id": "e0583850",
   "metadata": {},
   "outputs": [],
   "source": []
  },
  {
   "cell_type": "code",
   "execution_count": null,
   "id": "6b03439a",
   "metadata": {},
   "outputs": [],
   "source": []
  }
 ],
 "metadata": {
  "kernelspec": {
   "display_name": "Python 3",
   "language": "python",
   "name": "python3"
  },
  "language_info": {
   "codemirror_mode": {
    "name": "ipython",
    "version": 3
   },
   "file_extension": ".py",
   "mimetype": "text/x-python",
   "name": "python",
   "nbconvert_exporter": "python",
   "pygments_lexer": "ipython3",
   "version": "3.8.8"
  }
 },
 "nbformat": 4,
 "nbformat_minor": 5
}
